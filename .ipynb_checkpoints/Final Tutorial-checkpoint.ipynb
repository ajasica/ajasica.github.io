{
 "cells": [
  {
   "cell_type": "markdown",
   "metadata": {},
   "source": [
    "🌟 The link to my github page can be found [here](https://ajasica.github.io/ \"ajasica.github.io\"). 🌟"
   ]
  },
  {
   "cell_type": "markdown",
   "metadata": {},
   "source": [
    "# Final Data Science Tutorial\n",
    "**CMPS 3660-02 Fall 2019 - Introduction to Data Science - Professor Mattei  \n",
    "Addie Jasica**"
   ]
  },
  {
   "cell_type": "markdown",
   "metadata": {},
   "source": [
    "## Milestone 1: Groups, Data, and Website\n"
   ]
  },
  {
   "cell_type": "markdown",
   "metadata": {},
   "source": [
    "**Groups**"
   ]
  },
  {
   "cell_type": "markdown",
   "metadata": {},
   "source": [
    "For this final project, I plan on working alone at the moment. I am excited to learn by doing and dig into a database relating to one of my various interests."
   ]
  },
  {
   "cell_type": "markdown",
   "metadata": {},
   "source": [
    "**Data**"
   ]
  },
  {
   "cell_type": "markdown",
   "metadata": {},
   "source": [
    "For our Final Tutorial Project I am interested in going a couple different routes. \n",
    "\n",
    "The first would to be attempting to tie my second major into my work for this class by evaluating some dataset relating to Public Health. In order to do this I have been looking into the [data.nola.gov 9-1-1 Service call databases](https://data.nola.gov/Public-Safety-and-Preparedness/Calls-for-Service-2018/9san-ivhk). The New Orleans 9-1-1 datasets are put out yearly and range from 2011-2019. They hold records of the location of the call, whether the call was initiated by a police officer or a callin, the category of the reason for the service call, and the priority under which the the call is filed. \n",
    "\n",
    "Another database I have been interested in is the [AIDS database](https://think.cs.vt.edu/corgis/csv/aids/) from the CORGIS Dataset Project. This dataset holds data about AIDS prevalence in various countries with data between the years of 1990 and 2015. This is a pretty extensive and holds the data from the UN Nations that are currently affected by AIDS cases. The time span of this database is quite large and so one could really see how the AIDS prevalence has shifted as the US AIDS epidemic began to decrease.\n",
    "\n",
    "The other datasets that interest me and that are not related to Public Health include the [NYC MTA's Lost and Found database](http://advisory.mtanyct.info/LPUWebServices/CurrentLostProperty.aspx) which outlines all of the items in its lost and found inventory. This is a database updated hourly so it could be interesting to track it over a period of time and look at variety and items that are lost most frequently, etc. \n",
    "\n",
    "Finally, I am looking into the Center for Disease Control and Prevention's [Underlying Cause of Death database](https://wonder.cdc.gov/ucd-icd10.html). This database uses death certificates and can provide you with a text file of death information in a variety of ways. I think in order to make the database more specific I would focus on the datasets relating to a couple of specific years and broken down my state rather than census blocks. A dataset by census blocks might be a little too in depth for a project of this size and add unnecessary difficulty. \n",
    "\n",
    "At the moment, I have been able to confirm that I can download all of these datasets into a CSV, text, or XML file. They are all publically accessible."
   ]
  },
  {
   "cell_type": "markdown",
   "metadata": {},
   "source": [
    "**Website**"
   ]
  },
  {
   "cell_type": "markdown",
   "metadata": {},
   "source": [
    "The website is linked in the first cell and can be found at [ajasica.github.io](https://ajasica.github.io)."
   ]
  },
  {
   "cell_type": "code",
   "execution_count": null,
   "metadata": {},
   "outputs": [],
   "source": []
  }
 ],
 "metadata": {
  "kernelspec": {
   "display_name": "Python 3",
   "language": "python",
   "name": "python3"
  },
  "language_info": {
   "codemirror_mode": {
    "name": "ipython",
    "version": 3
   },
   "file_extension": ".py",
   "mimetype": "text/x-python",
   "name": "python",
   "nbconvert_exporter": "python",
   "pygments_lexer": "ipython3",
   "version": "3.7.3"
  }
 },
 "nbformat": 4,
 "nbformat_minor": 2
}
